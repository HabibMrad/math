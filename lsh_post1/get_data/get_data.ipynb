{
 "cells": [
  {
   "cell_type": "markdown",
   "metadata": {},
   "source": [
    "# Get data for lsh1 post\n",
    "\n",
    "The purpose of this notebook is to randomly sample hash collision data for the post *Introduction to Locality-Sensitive Hashes*."
   ]
  },
  {
   "cell_type": "code",
   "execution_count": 2,
   "metadata": {},
   "outputs": [],
   "source": [
    "%matplotlib inline\n",
    "\n",
    "import math\n",
    "\n",
    "import matplotlib.pyplot as plt\n",
    "import numpy as np"
   ]
  },
  {
   "cell_type": "markdown",
   "metadata": {},
   "source": [
    "# TODO Clean up scratch work"
   ]
  },
  {
   "cell_type": "markdown",
   "metadata": {},
   "source": [
    "## Self-check: What do the visual cues in a box plot typically indicate?\n",
    "\n",
    "Based a Google one-box answer, it looks like the box itself shows the 1st quartile, median, and 3rd quartile. The outer marks show the minimum and maximum values.\n",
    "\n",
    "I plan to think in terms of a function $F(d)$ of the distance $d$ between points, with $F(d) = P(x\\not\\sim y)$ for two random points $x, y$ at distance $d$ from each other. Intuitively, I expect this to be an increasing function going from 0 to 1. Then I can build a box plot at \"quartiles\" where, for example, $F(d) = 1/4,$ and similarly for 1/2 and 3/4. The min and max values can also be derived from $F()$ by excluding the distances which produce $F(d) \\in \\{0, 1\\}.$\n",
    "\n",
    "In order to sample $F(d)$ itself, I can choose a fixed set of distances and run many randomized hashes on points at that distance to get an approximate value for $F(d).$ From there, I can assert the monotonicity by setting $\\tilde F(d_2) = \\max(F(d_1), F(d_2)$ for all consecutive sample distances $d_1 < d_2.$\n",
    "\n",
    "By the way, the mathematical question of how to take arbitrary samples of $F(d)$ and turn them into a monotone function is interesting to me. It feels like kernel density estimation, except that we want to include the constraint in there somehow. It feels like there ought to be a nice method of doing just that, but I don't have anything just yet."
   ]
  },
  {
   "cell_type": "code",
   "execution_count": 2,
   "metadata": {},
   "outputs": [
    {
     "data": {
      "text/plain": [
       "array([[-0.38886266,  0.81708542],\n",
       "       [-0.44917947,  0.01868764]])"
      ]
     },
     "execution_count": 2,
     "metadata": {},
     "output_type": "execute_result"
    }
   ],
   "source": [
    "np.random.normal(size=(2, 2))"
   ]
  },
  {
   "cell_type": "code",
   "execution_count": 3,
   "metadata": {},
   "outputs": [],
   "source": [
    "def make_hashes(k):\n",
    "    \"\"\" Return a list of k tuples representing random LSH\n",
    "        hash functions.\n",
    "    \"\"\"\n",
    "    \n",
    "    # Each hash is given as a (Q, b) tuple.\n",
    "    # Compute h(x) as floor((Qx+b)[0]).\n",
    "    hashes = []\n",
    "    \n",
    "    for _ in range(k):\n",
    "        \n",
    "        # Get a random unitary matrix.\n",
    "        Q, _ = np.linalg.qr(np.random.normal(size=(2, 2)))\n",
    "        \n",
    "        b = np.random.uniform()\n",
    "        \n",
    "        hashes.append((Q, b))\n",
    "    \n",
    "    return hashes"
   ]
  },
  {
   "cell_type": "code",
   "execution_count": 4,
   "metadata": {},
   "outputs": [],
   "source": [
    "def count_collisions(hashes, x1, x2):\n",
    "    \"\"\" Calculate all the hash values h_i(x1) and h_i(x2) for each\n",
    "        hash function h_i() in `hashes`; return the number of times\n",
    "        these values are equal: #{i: h_i(x1) == h_i(x2)}.\n",
    "    \"\"\"\n",
    "    \n",
    "    n_collisions = 0\n",
    "    \n",
    "    for Q, b in hashes:\n",
    "        \n",
    "        h1 = math.floor((Q.dot(x1) + b)[0][0])\n",
    "        h2 = math.floor((Q.dot(x2) + b)[0][0])\n",
    "        \n",
    "        if h1 == h2:\n",
    "            n_collisions += 1\n",
    "        \n",
    "    return n_collisions"
   ]
  },
  {
   "cell_type": "code",
   "execution_count": 130,
   "metadata": {},
   "outputs": [],
   "source": [
    "def estimate_miss_prob(d, j, k, n_trials=100):\n",
    "    \"\"\" Run a number of hash samples with points at distance d to sample the probability of a miss.\n",
    "        Use k total hashes, counting at least j collisions as a hit. Run in 2 dimension.\n",
    "    \"\"\"\n",
    "    \n",
    "    x1 = np.array([[0], [0]])\n",
    "    x2 = np.array([[d], [0]])\n",
    "    \n",
    "    n_hits = 0\n",
    "    for _ in range(n_trials):\n",
    "        hashes = make_hashes(k)\n",
    "        n_collisions = count_collisions(hashes, x1, x2)\n",
    "        if n_collisions >= j:\n",
    "            n_hits += 1\n",
    "    \n",
    "    return 1.0 - n_hits / n_trials"
   ]
  },
  {
   "cell_type": "markdown",
   "metadata": {},
   "source": [
    "# scratch"
   ]
  },
  {
   "cell_type": "code",
   "execution_count": 8,
   "metadata": {},
   "outputs": [
    {
     "data": {
      "text/plain": [
       "array([[-0.38113494,  0.90207681],\n",
       "       [-0.3785022 , -0.98262152]])"
      ]
     },
     "execution_count": 8,
     "metadata": {},
     "output_type": "execute_result"
    }
   ],
   "source": [
    "A = np.random.normal(size=(2, 2))\n",
    "A"
   ]
  },
  {
   "cell_type": "code",
   "execution_count": 23,
   "metadata": {},
   "outputs": [],
   "source": [
    "Q, r = np.linalg.qr(A)"
   ]
  },
  {
   "cell_type": "code",
   "execution_count": 24,
   "metadata": {},
   "outputs": [
    {
     "data": {
      "text/plain": [
       "array([[-0.7095532 , -0.70465187],\n",
       "       [-0.70465187,  0.7095532 ]])"
      ]
     },
     "execution_count": 24,
     "metadata": {},
     "output_type": "execute_result"
    }
   ],
   "source": [
    "Q"
   ]
  },
  {
   "cell_type": "code",
   "execution_count": 21,
   "metadata": {},
   "outputs": [],
   "source": [
    "x2 = np.array([[0.4], [0]])"
   ]
  },
  {
   "cell_type": "code",
   "execution_count": 27,
   "metadata": {},
   "outputs": [
    {
     "data": {
      "text/plain": [
       "-0.2838212809279525"
      ]
     },
     "execution_count": 27,
     "metadata": {},
     "output_type": "execute_result"
    }
   ],
   "source": [
    "Q.dot(x2)[0][0]"
   ]
  },
  {
   "cell_type": "code",
   "execution_count": 30,
   "metadata": {},
   "outputs": [],
   "source": [
    "hashes = make_hashes(12)"
   ]
  },
  {
   "cell_type": "code",
   "execution_count": 31,
   "metadata": {},
   "outputs": [],
   "source": [
    "x1 = np.array([[0], [0]])"
   ]
  },
  {
   "cell_type": "code",
   "execution_count": 34,
   "metadata": {},
   "outputs": [
    {
     "data": {
      "text/plain": [
       "11"
      ]
     },
     "execution_count": 34,
     "metadata": {},
     "output_type": "execute_result"
    }
   ],
   "source": [
    "count_collisions(hashes, x1, x2)"
   ]
  },
  {
   "cell_type": "code",
   "execution_count": 55,
   "metadata": {},
   "outputs": [
    {
     "data": {
      "text/plain": [
       "0.4971"
      ]
     },
     "execution_count": 55,
     "metadata": {},
     "output_type": "execute_result"
    }
   ],
   "source": [
    "estimate_miss_prob(0.85, 6, 12, n_trials=10000)"
   ]
  },
  {
   "cell_type": "markdown",
   "metadata": {},
   "source": [
    "## Let's plot a cdf for j, k = 6, 12"
   ]
  },
  {
   "cell_type": "markdown",
   "metadata": {},
   "source": [
    "**Q**: What range of distances do we care about?"
   ]
  },
  {
   "cell_type": "code",
   "execution_count": 59,
   "metadata": {},
   "outputs": [
    {
     "data": {
      "text/plain": [
       "[(0.0, 0.0),\n",
       " (0.1, 0.0),\n",
       " (0.2, 0.0),\n",
       " (0.30000000000000004, 0.020000000000000018),\n",
       " (0.4, 0.020000000000000018),\n",
       " (0.5, 0.050000000000000044),\n",
       " (0.6000000000000001, 0.07999999999999996),\n",
       " (0.7000000000000001, 0.22999999999999998),\n",
       " (0.8, 0.38),\n",
       " (0.9, 0.56),\n",
       " (1.0, 0.69),\n",
       " (1.1, 0.88),\n",
       " (1.2000000000000002, 0.92),\n",
       " (1.3, 0.95),\n",
       " (1.4000000000000001, 0.97),\n",
       " (1.5, 0.96),\n",
       " (1.6, 0.96),\n",
       " (1.7000000000000002, 0.97),\n",
       " (1.8, 1.0),\n",
       " (1.9000000000000001, 0.98),\n",
       " (2.0, 1.0),\n",
       " (2.1, 1.0),\n",
       " (2.2, 0.99),\n",
       " (2.3000000000000003, 1.0),\n",
       " (2.4000000000000004, 1.0)]"
      ]
     },
     "execution_count": 59,
     "metadata": {},
     "output_type": "execute_result"
    }
   ],
   "source": [
    "[(d, estimate_miss_prob(d, 6, 12)) for d in np.arange(0, 2.5, 0.1)]"
   ]
  },
  {
   "cell_type": "markdown",
   "metadata": {},
   "source": [
    "**A**: Looks like a good range here is 0.2 to 2.0."
   ]
  },
  {
   "cell_type": "code",
   "execution_count": 66,
   "metadata": {},
   "outputs": [
    {
     "name": "stdout",
     "output_type": "stream",
     "text": [
      "CPU times: user 12.1 s, sys: 53.8 ms, total: 12.1 s\n",
      "Wall time: 12.2 s\n"
     ]
    }
   ],
   "source": [
    "%%time\n",
    "x = np.arange(0.2, 2.0, 0.02)\n",
    "cdf = [estimate_miss_prob(d, 6, 12, n_trials=200) for d in x]"
   ]
  },
  {
   "cell_type": "code",
   "execution_count": 67,
   "metadata": {},
   "outputs": [
    {
     "data": {
      "image/png": "[encoded data removed]",
      "text/plain": [
       "<Figure size 432x288 with 1 Axes>"
      ]
     },
     "metadata": {},
     "output_type": "display_data"
    }
   ],
   "source": [
    "plt.plot(x, cdf)\n",
    "plt.show()"
   ]
  },
  {
   "cell_type": "code",
   "execution_count": 68,
   "metadata": {},
   "outputs": [
    {
     "name": "stdout",
     "output_type": "stream",
     "text": [
      "CPU times: user 23.9 s, sys: 119 ms, total: 24 s\n",
      "Wall time: 24.2 s\n"
     ]
    }
   ],
   "source": [
    "%%time\n",
    "x = np.arange(0.2, 2.0, 0.02)\n",
    "cdf = [estimate_miss_prob(d, 6, 12, n_trials=400) for d in x]"
   ]
  },
  {
   "cell_type": "code",
   "execution_count": 69,
   "metadata": {},
   "outputs": [
    {
     "data": {
      "image/png": "[encoded data removed]",
      "text/plain": [
       "<Figure size 432x288 with 1 Axes>"
      ]
     },
     "metadata": {},
     "output_type": "display_data"
    }
   ],
   "source": [
    "plt.plot(x, cdf)\n",
    "plt.show()"
   ]
  },
  {
   "cell_type": "code",
   "execution_count": 76,
   "metadata": {},
   "outputs": [
    {
     "data": {
      "image/png": "[encoded data removed]",
      "text/plain": [
       "<Figure size 432x288 with 1 Axes>"
      ]
     },
     "metadata": {},
     "output_type": "display_data"
    }
   ],
   "source": [
    "x = np.arange(0.2, 2.0, 0.02)\n",
    "cdf = [estimate_miss_prob(d, 6, 12, n_trials=2000) for d in x]\n",
    "plt.plot(x, cdf)\n",
    "plt.show()"
   ]
  },
  {
   "cell_type": "markdown",
   "metadata": {},
   "source": [
    "### Try to find the quartiles"
   ]
  },
  {
   "cell_type": "code",
   "execution_count": 26,
   "metadata": {},
   "outputs": [],
   "source": [
    "def estimate_percentile(p, j, k, n_trials=400):\n",
    "    \"\"\" Return the estimated distance d at which miss_prob(d, j, k) = p.\n",
    "        Use n_trials sample points per internal call to\n",
    "        estimate_miss_prob().\n",
    "    \"\"\"\n",
    "    \n",
    "    lo, hi = 0, 50.0  # These values ought to handle all currently relevant cases.\n",
    "    \n",
    "    while (hi - lo) > 0.01:\n",
    "        \n",
    "        mid = (lo + hi) / 2\n",
    "        \n",
    "        # print('mid = %f' % mid)\n",
    "        \n",
    "        p_est = estimate_miss_prob(mid, j, k, n_trials)\n",
    "        \n",
    "        # print('  p_est = %.2f' % p_est)\n",
    "        \n",
    "        if p_est < p:\n",
    "            lo = mid\n",
    "        else:\n",
    "            hi = mid\n",
    "    \n",
    "    return (hi + lo) / 2"
   ]
  },
  {
   "cell_type": "code",
   "execution_count": 75,
   "metadata": {},
   "outputs": [
    {
     "name": "stdout",
     "output_type": "stream",
     "text": [
      "0.2294921875\n",
      "0.6982421875\n",
      "0.8349609375\n",
      "0.9912109375\n",
      "2.2216796875\n"
     ]
    }
   ],
   "source": [
    "p_estimates = []\n",
    "\n",
    "for p in [0.00001, 0.25, 0.5, 0.75, 0.999999]:\n",
    "    \n",
    "    p_est = estimate_percentile(p, 6, 12) \n",
    "    \n",
    "    p_estimates.append(p_est)\n",
    "    \n",
    "    print(p_est)"
   ]
  },
  {
   "cell_type": "code",
   "execution_count": 7,
   "metadata": {},
   "outputs": [
    {
     "name": "stdout",
     "output_type": "stream",
     "text": [
      "0.3173828125\n",
      "0.6982421875\n",
      "0.8642578125\n",
      "1.0009765625\n",
      "2.9931640625\n",
      "CPU times: user 14.8 s, sys: 234 ms, total: 15 s\n",
      "Wall time: 15.7 s\n"
     ]
    }
   ],
   "source": [
    "%%time\n",
    "# Re-run of the last cell, since I'm getting back into\n",
    "# understanding this code after a break.\n",
    "\n",
    "p_estimates = []\n",
    "\n",
    "for p in [0.00001, 0.25, 0.5, 0.75, 0.999999]:\n",
    "    \n",
    "    p_est = estimate_percentile(p, 6, 12) \n",
    "    \n",
    "    p_estimates.append(p_est)\n",
    "    \n",
    "    print(p_est)"
   ]
  },
  {
   "cell_type": "code",
   "execution_count": 33,
   "metadata": {},
   "outputs": [
    {
     "name": "stdout",
     "output_type": "stream",
     "text": [
      "Working on j=3\n",
      "Working on j=4\n",
      "Working on j=5\n",
      "Working on j=6\n",
      "Working on j=7\n",
      "Working on j=8\n",
      "Working on j=9\n",
      "Working on j=10\n",
      "Working on j=11\n",
      "Working on j=12\n",
      "CPU times: user 6min 8s, sys: 2.97 s, total: 6min 11s\n",
      "Wall time: 6min 21s\n"
     ]
    }
   ],
   "source": [
    "%%time\n",
    "boxplot_values = []\n",
    "for j in range(3, 13):\n",
    "    print('Working on j=%d' % j)\n",
    "    boxplot_values.append(get_box_coords(j, 12, n_trials=800))\n",
    "\n",
    "bp_values_normed = boxplot_values[:]\n",
    "for bp_vals in bp_values_normed:\n",
    "    bp_vals /= bp_vals[2]"
   ]
  },
  {
   "cell_type": "code",
   "execution_count": 28,
   "metadata": {},
   "outputs": [
    {
     "data": {
      "image/png": "[encoded data removed]",
      "text/plain": [
       "<Figure size 432x288 with 1 Axes>"
      ]
     },
     "metadata": {},
     "output_type": "display_data"
    }
   ],
   "source": [
    "plt.boxplot(boxplot_values, whis=100.0, positions=range(3, 13))\n",
    "plt.show()"
   ]
  },
  {
   "cell_type": "markdown",
   "metadata": {},
   "source": [
    "### Note\n",
    "\n",
    "This next set of box plots was generated with `n_trials` set to 400."
   ]
  },
  {
   "cell_type": "code",
   "execution_count": 31,
   "metadata": {},
   "outputs": [
    {
     "data": {
      "image/png": "[encoded data removed]",
      "text/plain": [
       "<Figure size 432x288 with 1 Axes>"
      ]
     },
     "metadata": {},
     "output_type": "display_data"
    }
   ],
   "source": [
    "# Next, let's create a normalized plot where the minimum for each j\n",
    "# is always scaled to 1.0. (Or should it be the median?)\n",
    "\n",
    "bp_values_normed = boxplot_values[:]\n",
    "for bp_vals in bp_values_normed:\n",
    "    bp_vals /= bp_vals[2]\n",
    "    \n",
    "plt.boxplot(bp_values_normed, whis=100.0, positions=range(3, 13))\n",
    "plt.show()"
   ]
  },
  {
   "cell_type": "markdown",
   "metadata": {},
   "source": [
    "Wow, that actually looks very cool. I think I'll re-run\n",
    "the data because I suspect that we're seeing a bit of noise here."
   ]
  },
  {
   "cell_type": "code",
   "execution_count": 35,
   "metadata": {},
   "outputs": [
    {
     "data": {
      "image/png": "[encoded data removed]",
      "text/plain": [
       "<Figure size 432x288 with 1 Axes>"
      ]
     },
     "metadata": {},
     "output_type": "display_data"
    }
   ],
   "source": [
    "# This plot is being generated with n_trails = 800.\n",
    "\n",
    "plt.boxplot(bp_values_normed, whis=100.0, positions=range(3, 13))\n",
    "plt.show()"
   ]
  },
  {
   "cell_type": "markdown",
   "metadata": {},
   "source": [
    "### Note\n",
    "\n",
    "I think we're going to need to user more data points to get more reliable numbers here.\n",
    "\n",
    "Also, I suspect we could be being more efficient in how we're collecting the data.\n",
    "\n",
    "Based on the cdf plots above, it looks like 2000 is a decent number of trials, although even that one was a tad shaky.\n",
    "Maybe I ought to go for something like 4000. Could take a long time, though."
   ]
  },
  {
   "cell_type": "code",
   "execution_count": 122,
   "metadata": {},
   "outputs": [
    {
     "name": "stdout",
     "output_type": "stream",
     "text": [
      "Working on j=3\n",
      "Working on j=4\n",
      "Working on j=5\n",
      "Working on j=6\n",
      "Working on j=7\n",
      "Working on j=8\n",
      "Working on j=9\n",
      "Working on j=10\n",
      "Working on j=11\n",
      "Working on j=12\n",
      "CPU times: user 31min 46s, sys: 19.6 s, total: 32min 6s\n",
      "Wall time: 2h 44min 26s\n"
     ]
    }
   ],
   "source": [
    "%%time\n",
    "boxplot_values = []\n",
    "for j in range(3, 13):\n",
    "    print('Working on j=%d' % j)\n",
    "    boxplot_values.append(get_box_coords(j, 12, n_trials=4000))\n",
    "\n",
    "bp_values_normed = boxplot_values[:]\n",
    "for bp_vals in bp_values_normed:\n",
    "    bp_vals /= bp_vals[2]"
   ]
  },
  {
   "cell_type": "code",
   "execution_count": 37,
   "metadata": {},
   "outputs": [
    {
     "data": {
      "image/png": "[encoded data removed]",
      "text/plain": [
       "<Figure size 432x288 with 1 Axes>"
      ]
     },
     "metadata": {},
     "output_type": "display_data"
    }
   ],
   "source": [
    "# This plot is being generated with n_trails = 800.\n",
    "\n",
    "plt.boxplot(bp_values_normed, whis=100.0, positions=range(3, 13))\n",
    "plt.show()"
   ]
  },
  {
   "cell_type": "code",
   "execution_count": 38,
   "metadata": {},
   "outputs": [
    {
     "data": {
      "text/plain": [
       "[array([ 0.28094303,  0.73280943,  1.        ,  1.43222004, 26.50491159]),\n",
       " array([ 0.34203655,  0.82767624,  1.        ,  1.31331593, 17.59007833]),\n",
       " array([ 0.19626168,  0.85046729,  1.        ,  1.21183801, 10.39563863]),\n",
       " array([0.26545455, 0.82545455, 1.        , 1.18181818, 5.08      ]),\n",
       " array([0.20502092, 0.78242678, 1.        , 1.18410042, 3.80334728]),\n",
       " array([0.12820513, 0.76410256, 1.        , 1.25641026, 3.28717949]),\n",
       " array([0.05806452, 0.72903226, 1.        , 1.29677419, 3.0516129 ]),\n",
       " array([0.04504505, 0.67567568, 1.        , 1.3963964 , 3.32432432]),\n",
       " array([0.01408451, 0.6056338 , 1.        , 1.53521127, 4.74647887]),\n",
       " array([0.03448276, 0.44827586, 1.        , 1.96551724, 8.79310345])]"
      ]
     },
     "execution_count": 38,
     "metadata": {},
     "output_type": "execute_result"
    }
   ],
   "source": [
    "boxplot_values"
   ]
  },
  {
   "cell_type": "code",
   "execution_count": 43,
   "metadata": {},
   "outputs": [
    {
     "data": {
      "image/png": "[encoded data removed]",
      "text/plain": [
       "<Figure size 432x288 with 1 Axes>"
      ]
     },
     "metadata": {},
     "output_type": "display_data"
    }
   ],
   "source": [
    "bp_values = np.array(boxplot_values)\n",
    "plt.boxplot(bp_values.T)\n",
    "plt.show()"
   ]
  },
  {
   "cell_type": "code",
   "execution_count": 45,
   "metadata": {},
   "outputs": [],
   "source": [
    "np.save('boxplot_values.npy', bp_values)"
   ]
  },
  {
   "cell_type": "code",
   "execution_count": 131,
   "metadata": {},
   "outputs": [],
   "source": [
    "def get_box_coords(j, k, n_trials=400):\n",
    "    \"\"\" Return a 1d numpy array with the boxplot values for the given j, k values. \"\"\"\n",
    "    p_estimates = []\n",
    "    for p in [0.01, 0.25, 0.5, 0.75, 0.99]:\n",
    "        p_est = estimate_percentile(p, j, k, n_trials) \n",
    "        p_estimates.append(p_est)\n",
    "    return np.array(p_estimates)"
   ]
  },
  {
   "cell_type": "code",
   "execution_count": 135,
   "metadata": {},
   "outputs": [
    {
     "name": "stdout",
     "output_type": "stream",
     "text": [
      "Working on j=3\n",
      "Working on j=4\n",
      "Working on j=5\n",
      "Working on j=6\n",
      "Working on j=7\n",
      "Working on j=8\n",
      "Working on j=9\n",
      "Working on j=10\n",
      "Working on j=11\n",
      "Working on j=12\n",
      "CPU times: user 3h 51min 21s, sys: 51.9 s, total: 3h 52min 13s\n",
      "Wall time: 3h 53min 15s\n"
     ]
    }
   ],
   "source": [
    "%%time\n",
    "boxplot_values = []\n",
    "for j in range(3, 13):\n",
    "    print('Working on j=%d' % j)\n",
    "    boxplot_values.append(get_box_coords(j, 12, n_trials=32000))\n",
    "\n",
    "bp_values_normed = boxplot_values[:]\n",
    "for bp_vals in bp_values_normed:\n",
    "    bp_vals /= bp_vals[2]"
   ]
  },
  {
   "cell_type": "code",
   "execution_count": 136,
   "metadata": {},
   "outputs": [
    {
     "data": {
      "image/png": "[encoded data removed]",
      "text/plain": [
       "<Figure size 1400x700 with 1 Axes>"
      ]
     },
     "metadata": {},
     "output_type": "display_data"
    }
   ],
   "source": [
    "# This has been generated for the symmetric epsilon values.\n",
    "\n",
    "font = {'weight' : 'bold',\n",
    "        'size'   : 26}\n",
    "\n",
    "plt.rcdefaults()\n",
    "plt.rc('font', **font)\n",
    "\n",
    "fig, ax = plt.subplots(figsize=(14, 7))\n",
    "\n",
    "line_width = 2\n",
    "light_color = '#' + 'b' * 6\n",
    "\n",
    "for sp_key, sp in ax.spines.items():\n",
    "    sp.set_color(light_color)\n",
    "    sp.set_linewidth(line_width)\n",
    "ax.tick_params(axis='x', colors=light_color)\n",
    "ax.tick_params(axis='y', colors=light_color)\n",
    "\n",
    "ax.set_xlabel('number of required hash collisions (j)')\n",
    "ax.set_ylabel('distance, norm\\'d so median=1')\n",
    "ax.yaxis.label.set_color(light_color)\n",
    "ax.xaxis.label.set_color(light_color)\n",
    "ax.xaxis.labelpad = 20\n",
    "ax.yaxis.labelpad = 20\n",
    "\n",
    "if False:\n",
    "    bp = plt.boxplot(bp_values_normed, whis=100.0, positions=range(3, 13), zorder=100)\n",
    "\n",
    "    # Adjust all line widths in the box plot.\n",
    "    for key, lines in bp.items():\n",
    "        for line in lines:\n",
    "            line.set_linewidth(line_width)\n",
    "\n",
    "bp = plt.boxplot(bp_values_normed, whis=100.0, positions=range(3, 13), zorder=200)\n",
    "\n",
    "# Adjust all line widths in the box plot.\n",
    "for key, lines in bp.items():\n",
    "    for line in lines:\n",
    "        line.set_linewidth(line_width)\n",
    "\n",
    "for line in bp['medians']:\n",
    "    line.set_color((0, 0, 1, 0))\n",
    "    \n",
    "plt.show()"
   ]
  },
  {
   "cell_type": "code",
   "execution_count": 137,
   "metadata": {},
   "outputs": [
    {
     "data": {
      "text/plain": [
       "[array([0.47305389, 0.75249501, 1.        , 1.45508982, 5.38323353]),\n",
       " array([0.50923483, 0.83113456, 1.        , 1.32189974, 3.58575198]),\n",
       " array([0.48909657, 0.84423676, 1.        , 1.20560748, 2.70716511]),\n",
       " array([0.44404332, 0.8267148 , 1.        , 1.18050542, 2.21299639]),\n",
       " array([0.37552743, 0.79746835, 1.        , 1.20253165, 1.9535865 ]),\n",
       " array([0.31282051, 0.76410256, 1.        , 1.24615385, 1.93333333]),\n",
       " array([0.26797386, 0.7254902 , 1.        , 1.30065359, 2.09803922]),\n",
       " array([0.18918919, 0.67567568, 1.        , 1.3963964 , 2.4954955 ]),\n",
       " array([0.09859155, 0.57746479, 1.        , 1.53521127, 3.1971831 ]),\n",
       " array([0.03448276, 0.44827586, 1.        , 1.96551724, 5.62068966])]"
      ]
     },
     "execution_count": 137,
     "metadata": {},
     "output_type": "execute_result"
    }
   ],
   "source": [
    "bp_values_normed"
   ]
  },
  {
   "cell_type": "code",
   "execution_count": 138,
   "metadata": {},
   "outputs": [
    {
     "data": {
      "text/plain": [
       "[11.379746835443038,\n",
       " 7.041450777202073,\n",
       " 5.535031847133759,\n",
       " 4.983739837398374,\n",
       " 5.202247191011235,\n",
       " 6.180327868852459,\n",
       " 7.829268292682928,\n",
       " 13.190476190476188,\n",
       " 32.42857142857143,\n",
       " 163.0]"
      ]
     },
     "execution_count": 138,
     "metadata": {},
     "output_type": "execute_result"
    }
   ],
   "source": [
    "[x[4] / x[0] for x in bp_values_normed]"
   ]
  },
  {
   "cell_type": "code",
   "execution_count": 139,
   "metadata": {},
   "outputs": [],
   "source": [
    "bp_values_normed2 = boxplot_values[:]\n",
    "for bp_vals in bp_values_normed2:\n",
    "    bp_vals /= bp_vals[0]"
   ]
  },
  {
   "cell_type": "code",
   "execution_count": 142,
   "metadata": {},
   "outputs": [
    {
     "data": {
      "image/png": "[encoded data removed]",
      "text/plain": [
       "<Figure size 1400x700 with 1 Axes>"
      ]
     },
     "metadata": {},
     "output_type": "display_data"
    }
   ],
   "source": [
    "# This has been generated for the symmetric epsilon values.\n",
    "\n",
    "font = {'weight' : 'bold',\n",
    "        'size'   : 26}\n",
    "\n",
    "plt.rcdefaults()\n",
    "plt.rc('font', **font)\n",
    "\n",
    "fig, ax = plt.subplots(figsize=(14, 7))\n",
    "\n",
    "line_width = 2\n",
    "light_color = '#' + 'b' * 6\n",
    "\n",
    "for sp_key, sp in ax.spines.items():\n",
    "    sp.set_color(light_color)\n",
    "    sp.set_linewidth(line_width)\n",
    "ax.tick_params(axis='x', colors=light_color)\n",
    "ax.tick_params(axis='y', colors=light_color)\n",
    "\n",
    "ax.set_xlabel('number of required hash collisions (j)')\n",
    "ax.set_ylabel('distance, norm\\'d so median=1')\n",
    "ax.yaxis.label.set_color(light_color)\n",
    "ax.xaxis.label.set_color(light_color)\n",
    "ax.xaxis.labelpad = 20\n",
    "ax.yaxis.labelpad = 20\n",
    "\n",
    "bp = plt.boxplot(bp_values_normed2[:-2], whis=100.0, positions=range(3, 11), zorder=200)\n",
    "\n",
    "# Adjust all line widths in the box plot.\n",
    "for key, lines in bp.items():\n",
    "    for line in lines:\n",
    "        line.set_linewidth(line_width)\n",
    "\n",
    "for line in bp['medians']:\n",
    "    line.set_color((0, 0, 1, 0))\n",
    "    \n",
    "plt.show()"
   ]
  },
  {
   "cell_type": "code",
   "execution_count": 119,
   "metadata": {},
   "outputs": [
    {
     "data": {
      "image/png": "[encoded data removed]",
      "text/plain": [
       "<Figure size 1400x700 with 1 Axes>"
      ]
     },
     "metadata": {},
     "output_type": "display_data"
    }
   ],
   "source": [
    "# This was generated from the old, asymmetric epsilon values.\n",
    "\n",
    "font = {'weight' : 'bold',\n",
    "        'size'   : 26}\n",
    "\n",
    "plt.rcdefaults()\n",
    "plt.rc('font', **font)\n",
    "\n",
    "fig, ax = plt.subplots(figsize=(14, 7))\n",
    "\n",
    "line_width = 2\n",
    "light_color = '#' + 'b' * 6\n",
    "\n",
    "for sp_key, sp in ax.spines.items():\n",
    "    sp.set_color(light_color)\n",
    "    sp.set_linewidth(line_width)\n",
    "ax.tick_params(axis='x', colors=light_color)\n",
    "ax.tick_params(axis='y', colors=light_color)\n",
    "\n",
    "ax.set_xlabel('number of required hash collisions (j)')\n",
    "ax.set_ylabel('distance, norm\\'d so median=1')\n",
    "ax.yaxis.label.set_color(light_color)\n",
    "ax.xaxis.label.set_color(light_color)\n",
    "ax.xaxis.labelpad = 20\n",
    "ax.yaxis.labelpad = 20\n",
    "\n",
    "if False:\n",
    "    bp = plt.boxplot(bp_values_normed, whis=100.0, positions=range(3, 13), zorder=100)\n",
    "\n",
    "    # Adjust all line widths in the box plot.\n",
    "    for key, lines in bp.items():\n",
    "        for line in lines:\n",
    "            line.set_linewidth(line_width)\n",
    "\n",
    "bp = plt.boxplot(bp_values_normed, whis=100.0, positions=range(3, 13), zorder=200)\n",
    "\n",
    "# Adjust all line widths in the box plot.\n",
    "for key, lines in bp.items():\n",
    "    for line in lines:\n",
    "        line.set_linewidth(line_width)\n",
    "\n",
    "for line in bp['medians']:\n",
    "    line.set_color((0, 0, 1, 0))\n",
    "    \n",
    "plt.show()"
   ]
  },
  {
   "cell_type": "code",
   "execution_count": 61,
   "metadata": {},
   "outputs": [
    {
     "data": {
      "text/plain": [
       "list"
      ]
     },
     "execution_count": 61,
     "metadata": {},
     "output_type": "execute_result"
    }
   ],
   "source": [
    "type(a['medians'])"
   ]
  },
  {
   "cell_type": "code",
   "execution_count": 64,
   "metadata": {},
   "outputs": [
    {
     "data": {
      "text/plain": [
       "['__class__',\n",
       " '__delattr__',\n",
       " '__dict__',\n",
       " '__dir__',\n",
       " '__doc__',\n",
       " '__eq__',\n",
       " '__format__',\n",
       " '__ge__',\n",
       " '__getattribute__',\n",
       " '__getstate__',\n",
       " '__gt__',\n",
       " '__hash__',\n",
       " '__init__',\n",
       " '__init_subclass__',\n",
       " '__le__',\n",
       " '__lt__',\n",
       " '__module__',\n",
       " '__ne__',\n",
       " '__new__',\n",
       " '__reduce__',\n",
       " '__reduce_ex__',\n",
       " '__repr__',\n",
       " '__setattr__',\n",
       " '__sizeof__',\n",
       " '__str__',\n",
       " '__subclasshook__',\n",
       " '__weakref__',\n",
       " '_agg_filter',\n",
       " '_alpha',\n",
       " '_animated',\n",
       " '_antialiased',\n",
       " '_axes',\n",
       " '_clipon',\n",
       " '_clippath',\n",
       " '_color',\n",
       " '_contains',\n",
       " '_dashOffset',\n",
       " '_dashSeq',\n",
       " '_dashcapstyle',\n",
       " '_dashjoinstyle',\n",
       " '_drawStyles_l',\n",
       " '_drawStyles_s',\n",
       " '_drawstyle',\n",
       " '_get_markerfacecolor',\n",
       " '_get_rgba_face',\n",
       " '_get_rgba_ln_color',\n",
       " '_get_transformed_path',\n",
       " '_gid',\n",
       " '_invalidx',\n",
       " '_invalidy',\n",
       " '_is_sorted',\n",
       " '_label',\n",
       " '_lineStyles',\n",
       " '_linestyle',\n",
       " '_linestyles',\n",
       " '_linewidth',\n",
       " '_marker',\n",
       " '_markeredgecolor',\n",
       " '_markeredgewidth',\n",
       " '_markerfacecolor',\n",
       " '_markerfacecoloralt',\n",
       " '_markersize',\n",
       " '_markevery',\n",
       " '_mouseover',\n",
       " '_oid',\n",
       " '_path',\n",
       " '_path_effects',\n",
       " '_picker',\n",
       " '_prop_order',\n",
       " '_propobservers',\n",
       " '_rasterized',\n",
       " '_remove_method',\n",
       " '_set_gc_clip',\n",
       " '_sketch',\n",
       " '_snap',\n",
       " '_solidcapstyle',\n",
       " '_solidjoinstyle',\n",
       " '_split_drawstyle_linestyle',\n",
       " '_stale',\n",
       " '_sticky_edges',\n",
       " '_subslice',\n",
       " '_transform',\n",
       " '_transformSet',\n",
       " '_transform_path',\n",
       " '_transformed_path',\n",
       " '_url',\n",
       " '_us_dashOffset',\n",
       " '_us_dashSeq',\n",
       " '_visible',\n",
       " '_x',\n",
       " '_x_filled',\n",
       " '_xcid',\n",
       " '_xorig',\n",
       " '_xy',\n",
       " '_y',\n",
       " '_ycid',\n",
       " '_yorig',\n",
       " 'add_callback',\n",
       " 'aname',\n",
       " 'axes',\n",
       " 'clipbox',\n",
       " 'contains',\n",
       " 'convert_xunits',\n",
       " 'convert_yunits',\n",
       " 'draw',\n",
       " 'drawStyleKeys',\n",
       " 'drawStyles',\n",
       " 'eventson',\n",
       " 'figure',\n",
       " 'fillStyles',\n",
       " 'filled_markers',\n",
       " 'findobj',\n",
       " 'format_cursor_data',\n",
       " 'get_aa',\n",
       " 'get_agg_filter',\n",
       " 'get_alpha',\n",
       " 'get_animated',\n",
       " 'get_antialiased',\n",
       " 'get_c',\n",
       " 'get_children',\n",
       " 'get_clip_box',\n",
       " 'get_clip_on',\n",
       " 'get_clip_path',\n",
       " 'get_color',\n",
       " 'get_contains',\n",
       " 'get_cursor_data',\n",
       " 'get_dash_capstyle',\n",
       " 'get_dash_joinstyle',\n",
       " 'get_data',\n",
       " 'get_drawstyle',\n",
       " 'get_figure',\n",
       " 'get_fillstyle',\n",
       " 'get_gid',\n",
       " 'get_label',\n",
       " 'get_linestyle',\n",
       " 'get_linewidth',\n",
       " 'get_ls',\n",
       " 'get_lw',\n",
       " 'get_marker',\n",
       " 'get_markeredgecolor',\n",
       " 'get_markeredgewidth',\n",
       " 'get_markerfacecolor',\n",
       " 'get_markerfacecoloralt',\n",
       " 'get_markersize',\n",
       " 'get_markevery',\n",
       " 'get_mec',\n",
       " 'get_mew',\n",
       " 'get_mfc',\n",
       " 'get_mfcalt',\n",
       " 'get_ms',\n",
       " 'get_path',\n",
       " 'get_path_effects',\n",
       " 'get_picker',\n",
       " 'get_pickradius',\n",
       " 'get_rasterized',\n",
       " 'get_sketch_params',\n",
       " 'get_snap',\n",
       " 'get_solid_capstyle',\n",
       " 'get_solid_joinstyle',\n",
       " 'get_transform',\n",
       " 'get_transformed_clip_path_and_affine',\n",
       " 'get_url',\n",
       " 'get_visible',\n",
       " 'get_window_extent',\n",
       " 'get_xdata',\n",
       " 'get_xydata',\n",
       " 'get_ydata',\n",
       " 'get_zorder',\n",
       " 'have_units',\n",
       " 'hitlist',\n",
       " 'ind_offset',\n",
       " 'is_dashed',\n",
       " 'is_figure_set',\n",
       " 'is_transform_set',\n",
       " 'lineStyles',\n",
       " 'markers',\n",
       " 'mouseover',\n",
       " 'pchanged',\n",
       " 'pick',\n",
       " 'pickable',\n",
       " 'pickradius',\n",
       " 'properties',\n",
       " 'recache',\n",
       " 'recache_always',\n",
       " 'remove',\n",
       " 'remove_callback',\n",
       " 'set',\n",
       " 'set_aa',\n",
       " 'set_agg_filter',\n",
       " 'set_alpha',\n",
       " 'set_animated',\n",
       " 'set_antialiased',\n",
       " 'set_c',\n",
       " 'set_clip_box',\n",
       " 'set_clip_on',\n",
       " 'set_clip_path',\n",
       " 'set_color',\n",
       " 'set_contains',\n",
       " 'set_dash_capstyle',\n",
       " 'set_dash_joinstyle',\n",
       " 'set_dashes',\n",
       " 'set_data',\n",
       " 'set_drawstyle',\n",
       " 'set_figure',\n",
       " 'set_fillstyle',\n",
       " 'set_gid',\n",
       " 'set_label',\n",
       " 'set_linestyle',\n",
       " 'set_linewidth',\n",
       " 'set_ls',\n",
       " 'set_lw',\n",
       " 'set_marker',\n",
       " 'set_markeredgecolor',\n",
       " 'set_markeredgewidth',\n",
       " 'set_markerfacecolor',\n",
       " 'set_markerfacecoloralt',\n",
       " 'set_markersize',\n",
       " 'set_markevery',\n",
       " 'set_mec',\n",
       " 'set_mew',\n",
       " 'set_mfc',\n",
       " 'set_mfcalt',\n",
       " 'set_ms',\n",
       " 'set_path_effects',\n",
       " 'set_picker',\n",
       " 'set_pickradius',\n",
       " 'set_rasterized',\n",
       " 'set_sketch_params',\n",
       " 'set_snap',\n",
       " 'set_solid_capstyle',\n",
       " 'set_solid_joinstyle',\n",
       " 'set_transform',\n",
       " 'set_url',\n",
       " 'set_visible',\n",
       " 'set_xdata',\n",
       " 'set_ydata',\n",
       " 'set_zorder',\n",
       " 'stale',\n",
       " 'stale_callback',\n",
       " 'sticky_edges',\n",
       " 'update',\n",
       " 'update_from',\n",
       " 'validCap',\n",
       " 'validJoin',\n",
       " 'verticalOffset',\n",
       " 'zorder']"
      ]
     },
     "execution_count": 64,
     "metadata": {},
     "output_type": "execute_result"
    }
   ],
   "source": [
    "dir(a['medians'][0])"
   ]
  },
  {
   "cell_type": "markdown",
   "metadata": {},
   "source": [
    "### Quick run of plt.boxplot\n",
    "\n",
    "NEXT: Draw two or more identical box plots to gain understanding of how to do that."
   ]
  },
  {
   "cell_type": "code",
   "execution_count": 17,
   "metadata": {},
   "outputs": [
    {
     "data": {
      "image/png": "[encoded data removed]",
      "text/plain": [
       "<Figure size 432x288 with 1 Axes>"
      ]
     },
     "metadata": {},
     "output_type": "display_data"
    }
   ],
   "source": [
    "plt.boxplot(p_estimates, whis=100.0)\n",
    "plt.show()"
   ]
  },
  {
   "cell_type": "code",
   "execution_count": 9,
   "metadata": {},
   "outputs": [
    {
     "data": {
      "image/png": "[encoded data removed]",
      "text/plain": [
       "<Figure size 432x288 with 1 Axes>"
      ]
     },
     "metadata": {},
     "output_type": "display_data"
    }
   ],
   "source": [
    "import matplotlib.pyplot as plt\n",
    "import numpy as np\n",
    "\n",
    "# fake up some data\n",
    "spread = np.random.rand(50) * 100\n",
    "center = np.ones(25) * 50\n",
    "flier_high = np.random.rand(10) * 100 + 100\n",
    "flier_low = np.random.rand(10) * -100\n",
    "data = np.concatenate((spread, center, flier_high, flier_low), 0)\n",
    "\n",
    "\n",
    "# fake up some more data\n",
    "spread = np.random.rand(50) * 100\n",
    "center = np.ones(25) * 40\n",
    "flier_high = np.random.rand(10) * 100 + 100\n",
    "flier_low = np.random.rand(10) * -100\n",
    "d2 = np.concatenate((spread, center, flier_high, flier_low), 0)\n",
    "data.shape = (-1, 1)\n",
    "d2.shape = (-1, 1)\n",
    "# data = concatenate( (data, d2), 1 )\n",
    "# Making a 2-D array only works if all the columns are the\n",
    "# same length.  If they are not, then use a list instead.\n",
    "# This is actually more efficient because boxplot converts\n",
    "# a 2-D array into a list of vectors internally anyway.\n",
    "data = [data, d2, d2[::2, 0]]\n",
    "# multiple box plots on one figure\n",
    "plt.figure()\n",
    "plt.boxplot(data)\n",
    "\n",
    "plt.show()"
   ]
  },
  {
   "cell_type": "code",
   "execution_count": 10,
   "metadata": {},
   "outputs": [
    {
     "data": {
      "text/plain": [
       "(list, 3)"
      ]
     },
     "execution_count": 10,
     "metadata": {},
     "output_type": "execute_result"
    }
   ],
   "source": [
    "type(data), len(data)"
   ]
  },
  {
   "cell_type": "code",
   "execution_count": 12,
   "metadata": {},
   "outputs": [
    {
     "data": {
      "text/plain": [
       "[(95, 1), (95, 1), (48,)]"
      ]
     },
     "execution_count": 12,
     "metadata": {},
     "output_type": "execute_result"
    }
   ],
   "source": [
    "[d.shape for d in data]"
   ]
  },
  {
   "cell_type": "code",
   "execution_count": 13,
   "metadata": {},
   "outputs": [
    {
     "data": {
      "text/plain": [
       "\u001b[0;31mSignature:\u001b[0m \u001b[0mplt\u001b[0m\u001b[0;34m.\u001b[0m\u001b[0mboxplot\u001b[0m\u001b[0;34m(\u001b[0m\u001b[0mx\u001b[0m\u001b[0;34m,\u001b[0m \u001b[0mnotch\u001b[0m\u001b[0;34m=\u001b[0m\u001b[0;32mNone\u001b[0m\u001b[0;34m,\u001b[0m \u001b[0msym\u001b[0m\u001b[0;34m=\u001b[0m\u001b[0;32mNone\u001b[0m\u001b[0;34m,\u001b[0m \u001b[0mvert\u001b[0m\u001b[0;34m=\u001b[0m\u001b[0;32mNone\u001b[0m\u001b[0;34m,\u001b[0m \u001b[0mwhis\u001b[0m\u001b[0;34m=\u001b[0m\u001b[0;32mNone\u001b[0m\u001b[0;34m,\u001b[0m \u001b[0mpositions\u001b[0m\u001b[0;34m=\u001b[0m\u001b[0;32mNone\u001b[0m\u001b[0;34m,\u001b[0m \u001b[0mwidths\u001b[0m\u001b[0;34m=\u001b[0m\u001b[0;32mNone\u001b[0m\u001b[0;34m,\u001b[0m \u001b[0mpatch_artist\u001b[0m\u001b[0;34m=\u001b[0m\u001b[0;32mNone\u001b[0m\u001b[0;34m,\u001b[0m \u001b[0mbootstrap\u001b[0m\u001b[0;34m=\u001b[0m\u001b[0;32mNone\u001b[0m\u001b[0;34m,\u001b[0m \u001b[0musermedians\u001b[0m\u001b[0;34m=\u001b[0m\u001b[0;32mNone\u001b[0m\u001b[0;34m,\u001b[0m \u001b[0mconf_intervals\u001b[0m\u001b[0;34m=\u001b[0m\u001b[0;32mNone\u001b[0m\u001b[0;34m,\u001b[0m \u001b[0mmeanline\u001b[0m\u001b[0;34m=\u001b[0m\u001b[0;32mNone\u001b[0m\u001b[0;34m,\u001b[0m \u001b[0mshowmeans\u001b[0m\u001b[0;34m=\u001b[0m\u001b[0;32mNone\u001b[0m\u001b[0;34m,\u001b[0m \u001b[0mshowcaps\u001b[0m\u001b[0;34m=\u001b[0m\u001b[0;32mNone\u001b[0m\u001b[0;34m,\u001b[0m \u001b[0mshowbox\u001b[0m\u001b[0;34m=\u001b[0m\u001b[0;32mNone\u001b[0m\u001b[0;34m,\u001b[0m \u001b[0mshowfliers\u001b[0m\u001b[0;34m=\u001b[0m\u001b[0;32mNone\u001b[0m\u001b[0;34m,\u001b[0m \u001b[0mboxprops\u001b[0m\u001b[0;34m=\u001b[0m\u001b[0;32mNone\u001b[0m\u001b[0;34m,\u001b[0m \u001b[0mlabels\u001b[0m\u001b[0;34m=\u001b[0m\u001b[0;32mNone\u001b[0m\u001b[0;34m,\u001b[0m \u001b[0mflierprops\u001b[0m\u001b[0;34m=\u001b[0m\u001b[0;32mNone\u001b[0m\u001b[0;34m,\u001b[0m \u001b[0mmedianprops\u001b[0m\u001b[0;34m=\u001b[0m\u001b[0;32mNone\u001b[0m\u001b[0;34m,\u001b[0m \u001b[0mmeanprops\u001b[0m\u001b[0;34m=\u001b[0m\u001b[0;32mNone\u001b[0m\u001b[0;34m,\u001b[0m \u001b[0mcapprops\u001b[0m\u001b[0;34m=\u001b[0m\u001b[0;32mNone\u001b[0m\u001b[0;34m,\u001b[0m \u001b[0mwhiskerprops\u001b[0m\u001b[0;34m=\u001b[0m\u001b[0;32mNone\u001b[0m\u001b[0;34m,\u001b[0m \u001b[0mmanage_xticks\u001b[0m\u001b[0;34m=\u001b[0m\u001b[0;32mTrue\u001b[0m\u001b[0;34m,\u001b[0m \u001b[0mautorange\u001b[0m\u001b[0;34m=\u001b[0m\u001b[0;32mFalse\u001b[0m\u001b[0;34m,\u001b[0m \u001b[0mzorder\u001b[0m\u001b[0;34m=\u001b[0m\u001b[0;32mNone\u001b[0m\u001b[0;34m,\u001b[0m \u001b[0mhold\u001b[0m\u001b[0;34m=\u001b[0m\u001b[0;32mNone\u001b[0m\u001b[0;34m,\u001b[0m \u001b[0mdata\u001b[0m\u001b[0;34m=\u001b[0m\u001b[0;32mNone\u001b[0m\u001b[0;34m)\u001b[0m\u001b[0;34m\u001b[0m\u001b[0m\n",
       "\u001b[0;31mDocstring:\u001b[0m\n",
       "Make a box and whisker plot.\n",
       "\n",
       "Make a box and whisker plot for each column of ``x`` or each\n",
       "vector in sequence ``x``.  The box extends from the lower to\n",
       "upper quartile values of the data, with a line at the median.\n",
       "The whiskers extend from the box to show the range of the\n",
       "data.  Flier points are those past the end of the whiskers.\n",
       "\n",
       "Parameters\n",
       "----------\n",
       "x : Array or a sequence of vectors.\n",
       "    The input data.\n",
       "\n",
       "notch : bool, optional (False)\n",
       "    If `True`, will produce a notched box plot. Otherwise, a\n",
       "    rectangular boxplot is produced. The notches represent the\n",
       "    confidence interval (CI) around the median. See the entry\n",
       "    for the ``bootstrap`` parameter for information regarding\n",
       "    how the locations of the notches are computed.\n",
       "\n",
       "    .. note::\n",
       "\n",
       "        In cases where the values of the CI are less than the\n",
       "        lower quartile or greater than the upper quartile, the\n",
       "        notches will extend beyond the box, giving it a\n",
       "        distinctive \"flipped\" appearance. This is expected\n",
       "        behavior and consistent with other statistical\n",
       "        visualization packages.\n",
       "\n",
       "sym : str, optional\n",
       "    The default symbol for flier points. Enter an empty string\n",
       "    ('') if you don't want to show fliers. If `None`, then the\n",
       "    fliers default to 'b+'  If you want more control use the\n",
       "    flierprops kwarg.\n",
       "\n",
       "vert : bool, optional (True)\n",
       "    If `True` (default), makes the boxes vertical. If `False`,\n",
       "    everything is drawn horizontally.\n",
       "\n",
       "whis : float, sequence, or string (default = 1.5)\n",
       "    As a float, determines the reach of the whiskers to the beyond the\n",
       "    first and third quartiles. In other words, where IQR is the\n",
       "    interquartile range (`Q3-Q1`), the upper whisker will extend to\n",
       "    last datum less than `Q3 + whis*IQR`). Similarly, the lower whisker\n",
       "    will extend to the first datum greater than `Q1 - whis*IQR`.\n",
       "    Beyond the whiskers, data\n",
       "    are considered outliers and are plotted as individual\n",
       "    points. Set this to an unreasonably high value to force the\n",
       "    whiskers to show the min and max values. Alternatively, set\n",
       "    this to an ascending sequence of percentile (e.g., [5, 95])\n",
       "    to set the whiskers at specific percentiles of the data.\n",
       "    Finally, ``whis`` can be the string ``'range'`` to force the\n",
       "    whiskers to the min and max of the data.\n",
       "\n",
       "bootstrap : int, optional\n",
       "    Specifies whether to bootstrap the confidence intervals\n",
       "    around the median for notched boxplots. If ``bootstrap`` is\n",
       "    None, no bootstrapping is performed, and notches are\n",
       "    calculated using a Gaussian-based asymptotic approximation\n",
       "    (see McGill, R., Tukey, J.W., and Larsen, W.A., 1978, and\n",
       "    Kendall and Stuart, 1967). Otherwise, bootstrap specifies\n",
       "    the number of times to bootstrap the median to determine its\n",
       "    95% confidence intervals. Values between 1000 and 10000 are\n",
       "    recommended.\n",
       "\n",
       "usermedians : array-like, optional\n",
       "    An array or sequence whose first dimension (or length) is\n",
       "    compatible with ``x``. This overrides the medians computed\n",
       "    by matplotlib for each element of ``usermedians`` that is not\n",
       "    `None`. When an element of ``usermedians`` is None, the median\n",
       "    will be computed by matplotlib as normal.\n",
       "\n",
       "conf_intervals : array-like, optional\n",
       "    Array or sequence whose first dimension (or length) is\n",
       "    compatible with ``x`` and whose second dimension is 2. When\n",
       "    the an element of ``conf_intervals`` is not None, the\n",
       "    notch locations computed by matplotlib are overridden\n",
       "    (provided ``notch`` is `True`). When an element of\n",
       "    ``conf_intervals`` is `None`, the notches are computed by the\n",
       "    method specified by the other kwargs (e.g., ``bootstrap``).\n",
       "\n",
       "positions : array-like, optional\n",
       "    Sets the positions of the boxes. The ticks and limits are\n",
       "    automatically set to match the positions. Defaults to\n",
       "    `range(1, N+1)` where N is the number of boxes to be drawn.\n",
       "\n",
       "widths : scalar or array-like\n",
       "    Sets the width of each box either with a scalar or a\n",
       "    sequence. The default is 0.5, or ``0.15*(distance between\n",
       "    extreme positions)``, if that is smaller.\n",
       "\n",
       "patch_artist : bool, optional (False)\n",
       "    If `False` produces boxes with the Line2D artist. Otherwise,\n",
       "    boxes and drawn with Patch artists.\n",
       "\n",
       "labels : sequence, optional\n",
       "    Labels for each dataset. Length must be compatible with\n",
       "    dimensions  of ``x``.\n",
       "\n",
       "manage_xticks : bool, optional (True)\n",
       "    If the function should adjust the xlim and xtick locations.\n",
       "\n",
       "autorange : bool, optional (False)\n",
       "    When `True` and the data are distributed such that the  25th and\n",
       "    75th percentiles are equal, ``whis`` is set to ``'range'`` such\n",
       "    that the whisker ends are at the minimum and maximum of the\n",
       "    data.\n",
       "\n",
       "meanline : bool, optional (False)\n",
       "    If `True` (and ``showmeans`` is `True`), will try to render\n",
       "    the mean as a line spanning the full width of the box\n",
       "    according to ``meanprops`` (see below). Not recommended if\n",
       "    ``shownotches`` is also True. Otherwise, means will be shown\n",
       "    as points.\n",
       "\n",
       "zorder : scalar, optional (None)\n",
       "    Sets the zorder of the boxplot.\n",
       "\n",
       "Other Parameters\n",
       "----------------\n",
       "showcaps : bool, optional (True)\n",
       "    Show the caps on the ends of whiskers.\n",
       "showbox : bool, optional (True)\n",
       "    Show the central box.\n",
       "showfliers : bool, optional (True)\n",
       "    Show the outliers beyond the caps.\n",
       "showmeans : bool, optional (False)\n",
       "    Show the arithmetic means.\n",
       "capprops : dict, optional (None)\n",
       "    Specifies the style of the caps.\n",
       "boxprops : dict, optional (None)\n",
       "    Specifies the style of the box.\n",
       "whiskerprops : dict, optional (None)\n",
       "    Specifies the style of the whiskers.\n",
       "flierprops : dict, optional (None)\n",
       "    Specifies the style of the fliers.\n",
       "medianprops : dict, optional (None)\n",
       "    Specifies the style of the median.\n",
       "meanprops : dict, optional (None)\n",
       "    Specifies the style of the mean.\n",
       "\n",
       "Returns\n",
       "-------\n",
       "result : dict\n",
       "  A dictionary mapping each component of the boxplot to a list\n",
       "  of the :class:`matplotlib.lines.Line2D` instances\n",
       "  created. That dictionary has the following keys (assuming\n",
       "  vertical boxplots):\n",
       "\n",
       "  - ``boxes``: the main body of the boxplot showing the\n",
       "    quartiles and the median's confidence intervals if\n",
       "    enabled.\n",
       "\n",
       "  - ``medians``: horizontal lines at the median of each box.\n",
       "\n",
       "  - ``whiskers``: the vertical lines extending to the most\n",
       "    extreme, non-outlier data points.\n",
       "\n",
       "  - ``caps``: the horizontal lines at the ends of the\n",
       "    whiskers.\n",
       "\n",
       "  - ``fliers``: points representing data that extend beyond\n",
       "    the whiskers (fliers).\n",
       "\n",
       "  - ``means``: points or lines representing the means.\n",
       "\n",
       "Notes\n",
       "-----\n",
       ".. [Notes section required for data comment. See #10189.]\n",
       "\n",
       ".. note::\n",
       "    In addition to the above described arguments, this function can take a\n",
       "    **data** keyword argument. If such a **data** argument is given, the\n",
       "    following arguments are replaced by **data[<arg>]**:\n",
       "\n",
       "    * All positional and all keyword arguments.\n",
       "\u001b[0;31mFile:\u001b[0m      ~/stuff/math/lsh_post1/get_data/lsh-env/lib/python3.6/site-packages/matplotlib/pyplot.py\n",
       "\u001b[0;31mType:\u001b[0m      function\n"
      ]
     },
     "metadata": {},
     "output_type": "display_data"
    }
   ],
   "source": [
    "plt.boxplot?"
   ]
  },
  {
   "cell_type": "code",
   "execution_count": 84,
   "metadata": {},
   "outputs": [
    {
     "data": {
      "text/plain": [
       "['get_data.ipynb', 'lsh-env']"
      ]
     },
     "execution_count": 84,
     "metadata": {},
     "output_type": "execute_result"
    }
   ],
   "source": [
    "a"
   ]
  },
  {
   "cell_type": "code",
   "execution_count": 85,
   "metadata": {},
   "outputs": [
    {
     "name": "stdout",
     "output_type": "stream",
     "text": [
      "CPU times: user 4 µs, sys: 0 ns, total: 4 µs\n",
      "Wall time: 22.9 µs\n"
     ]
    }
   ],
   "source": [
    "time"
   ]
  },
  {
   "cell_type": "code",
   "execution_count": null,
   "metadata": {},
   "outputs": [],
   "source": []
  }
 ],
 "metadata": {
  "kernelspec": {
   "display_name": "Python 3",
   "language": "python",
   "name": "python3"
  },
  "language_info": {
   "codemirror_mode": {
    "name": "ipython",
    "version": 3
   },
   "file_extension": ".py",
   "mimetype": "text/x-python",
   "name": "python",
   "nbconvert_exporter": "python",
   "pygments_lexer": "ipython3",
   "version": "3.6.5"
  }
 },
 "nbformat": 4,
 "nbformat_minor": 2
}
